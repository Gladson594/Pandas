{
 "cells": [
  {
   "cell_type": "code",
   "execution_count": 1,
   "id": "14e77d9e",
   "metadata": {},
   "outputs": [],
   "source": [
    "import pandas as pd"
   ]
  },
  {
   "cell_type": "code",
   "execution_count": 2,
   "id": "fe6e47f3",
   "metadata": {},
   "outputs": [
    {
     "name": "stdout",
     "output_type": "stream",
     "text": [
      "0    1\n",
      "1    2\n",
      "2    3\n",
      "3    4\n",
      "dtype: int64\n"
     ]
    }
   ],
   "source": [
    "series1 = pd.Series([1,2,3,4])\n",
    "print(series1)"
   ]
  },
  {
   "cell_type": "code",
   "execution_count": 4,
   "id": "43fcb133",
   "metadata": {},
   "outputs": [
    {
     "name": "stdout",
     "output_type": "stream",
     "text": [
      "Addition: 0     7\n",
      "1     9\n",
      "2    11\n",
      "3    13\n",
      "dtype: int64\n",
      "Subtraction: 0   -5\n",
      "1   -5\n",
      "2   -5\n",
      "3   -5\n",
      "dtype: int64\n",
      "multiplication: 0     6\n",
      "1    14\n",
      "2    24\n",
      "3    36\n",
      "dtype: int64\n",
      "division 0    0.166667\n",
      "1    0.285714\n",
      "2    0.375000\n",
      "3    0.444444\n",
      "dtype: float64\n"
     ]
    }
   ],
   "source": [
    "series2 = pd.Series([6,7,8,9])\n",
    "add = series1+series2\n",
    "sub = series1-series2\n",
    "mul = series1*series2\n",
    "div = series1/series2\n",
    "print(\"Addition:\",add)\n",
    "print(\"Subtraction:\",sub)\n",
    "print(\"multiplication:\",mul)\n",
    "print(\"division\",div)"
   ]
  },
  {
   "cell_type": "code",
   "execution_count": 7,
   "id": "5e65e76d",
   "metadata": {},
   "outputs": [
    {
     "name": "stdout",
     "output_type": "stream",
     "text": [
      "      name  Age         city\n",
      "0    Alice   23  Los angeles\n",
      "1      Bob   45      florida\n",
      "2  charlie   66        vegas\n"
     ]
    }
   ],
   "source": [
    "data = {'name':['Alice','Bob','charlie'],\n",
    "       'Age':[23,45,66],\n",
    "       'city':['Los angeles','florida','vegas']}\n",
    "df = pd.DataFrame(data)\n",
    "print(df)"
   ]
  },
  {
   "cell_type": "code",
   "execution_count": 8,
   "id": "2fd9ee96",
   "metadata": {},
   "outputs": [
    {
     "name": "stdout",
     "output_type": "stream",
     "text": [
      "name          Alice\n",
      "Age              23\n",
      "city    Los angeles\n",
      "Name: 0, dtype: object\n"
     ]
    }
   ],
   "source": [
    "first = df.iloc[0]\n",
    "print(first)"
   ]
  },
  {
   "cell_type": "code",
   "execution_count": null,
   "id": "7d5a1c53",
   "metadata": {},
   "outputs": [],
   "source": []
  }
 ],
 "metadata": {
  "kernelspec": {
   "display_name": "Python 3 (ipykernel)",
   "language": "python",
   "name": "python3"
  },
  "language_info": {
   "codemirror_mode": {
    "name": "ipython",
    "version": 3
   },
   "file_extension": ".py",
   "mimetype": "text/x-python",
   "name": "python",
   "nbconvert_exporter": "python",
   "pygments_lexer": "ipython3",
   "version": "3.11.4"
  }
 },
 "nbformat": 4,
 "nbformat_minor": 5
}
