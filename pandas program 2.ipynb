{
 "cells": [
  {
   "cell_type": "code",
   "execution_count": 2,
   "id": "eb9b5c6c",
   "metadata": {},
   "outputs": [],
   "source": [
    "import pandas as pd\n",
    "import numpy as np\n"
   ]
  },
  {
   "cell_type": "code",
   "execution_count": 3,
   "id": "b37035d8",
   "metadata": {},
   "outputs": [
    {
     "name": "stdout",
     "output_type": "stream",
     "text": [
      "0      Alice\n",
      "1        Bob\n",
      "2    charlie\n",
      "Name: name, dtype: object\n"
     ]
    }
   ],
   "source": [
    "data = {'name':['Alice','Bob','charlie'],\n",
    "       'Age':[23,45,66],\n",
    "       'city':['Los angeles','florida','vegas']}\n",
    "df = pd.DataFrame(data)\n",
    "col = df['name']\n",
    "print(col)"
   ]
  },
  {
   "cell_type": "code",
   "execution_count": 4,
   "id": "1ea4a02a",
   "metadata": {},
   "outputs": [
    {
     "name": "stdout",
     "output_type": "stream",
     "text": [
      "Number of rows: 3\n",
      "Number of columns: 3\n"
     ]
    }
   ],
   "source": [
    "num_rows = len(df)\n",
    "num_col = len(df.columns)\n",
    "print(\"Number of rows:\",num_rows)\n",
    "print(\"Number of columns:\",num_col)"
   ]
  },
  {
   "cell_type": "code",
   "execution_count": 12,
   "id": "4f8c4d65",
   "metadata": {},
   "outputs": [
    {
     "name": "stdout",
     "output_type": "stream",
     "text": [
      "[23 45]\n"
     ]
    }
   ],
   "source": [
    "n = 50\n",
    "value_less = np.array(df['Age'][df['Age']<n])\n",
    "print(value_less)"
   ]
  },
  {
   "cell_type": "code",
   "execution_count": null,
   "id": "2a086fc2",
   "metadata": {},
   "outputs": [],
   "source": []
  }
 ],
 "metadata": {
  "kernelspec": {
   "display_name": "Python 3 (ipykernel)",
   "language": "python",
   "name": "python3"
  },
  "language_info": {
   "codemirror_mode": {
    "name": "ipython",
    "version": 3
   },
   "file_extension": ".py",
   "mimetype": "text/x-python",
   "name": "python",
   "nbconvert_exporter": "python",
   "pygments_lexer": "ipython3",
   "version": "3.11.4"
  }
 },
 "nbformat": 4,
 "nbformat_minor": 5
}
